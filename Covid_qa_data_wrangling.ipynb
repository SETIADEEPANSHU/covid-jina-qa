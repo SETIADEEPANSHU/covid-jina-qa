{
  "nbformat": 4,
  "nbformat_minor": 0,
  "metadata": {
    "colab": {
      "name": "Covid-qa-data-wrangling.ipynb",
      "provenance": [],
      "collapsed_sections": []
    },
    "kernelspec": {
      "name": "python3",
      "display_name": "Python 3"
    }
  },
  "cells": [
    {
      "cell_type": "code",
      "metadata": {
        "id": "Q6GUdD5FbnpA",
        "colab_type": "code",
        "colab": {
          "base_uri": "https://localhost:8080/",
          "height": 204
        },
        "outputId": "e979602c-ed26-468a-d131-89493da660d7"
      },
      "source": [
        "!wget https://raw.githubusercontent.com/JerryWei03/COVID-Q/master/final_master_dataset.csv"
      ],
      "execution_count": 1,
      "outputs": [
        {
          "output_type": "stream",
          "text": [
            "--2020-09-19 17:34:53--  https://raw.githubusercontent.com/JerryWei03/COVID-Q/master/final_master_dataset.csv\n",
            "Resolving raw.githubusercontent.com (raw.githubusercontent.com)... 151.101.0.133, 151.101.64.133, 151.101.128.133, ...\n",
            "Connecting to raw.githubusercontent.com (raw.githubusercontent.com)|151.101.0.133|:443... connected.\n",
            "HTTP request sent, awaiting response... 200 OK\n",
            "Length: 537707 (525K) [text/plain]\n",
            "Saving to: ‘final_master_dataset.csv’\n",
            "\n",
            "final_master_datase 100%[===================>] 525.10K  --.-KB/s    in 0.03s   \n",
            "\n",
            "2020-09-19 17:34:53 (15.7 MB/s) - ‘final_master_dataset.csv’ saved [537707/537707]\n",
            "\n"
          ],
          "name": "stdout"
        }
      ]
    },
    {
      "cell_type": "code",
      "metadata": {
        "id": "iAUlSgxLbq5v",
        "colab_type": "code",
        "colab": {
          "base_uri": "https://localhost:8080/",
          "height": 34
        },
        "outputId": "287676ed-1b68-4afa-f694-1ad56cbf921f"
      },
      "source": [
        "!ls"
      ],
      "execution_count": 2,
      "outputs": [
        {
          "output_type": "stream",
          "text": [
            "final_master_dataset.csv  sample_data\n"
          ],
          "name": "stdout"
        }
      ]
    },
    {
      "cell_type": "code",
      "metadata": {
        "id": "zWumvntPbuXm",
        "colab_type": "code",
        "colab": {}
      },
      "source": [
        "import pandas as pd"
      ],
      "execution_count": 3,
      "outputs": []
    },
    {
      "cell_type": "code",
      "metadata": {
        "id": "5bxivP6ZbzGQ",
        "colab_type": "code",
        "colab": {
          "base_uri": "https://localhost:8080/",
          "height": 204
        },
        "outputId": "b917a87e-29bc-45d6-d09a-6ad263a2d004"
      },
      "source": [
        "df = pd.read_csv('final_master_dataset.csv')\n",
        "df.head()"
      ],
      "execution_count": 4,
      "outputs": [
        {
          "output_type": "execute_result",
          "data": {
            "text/html": [
              "<div>\n",
              "<style scoped>\n",
              "    .dataframe tbody tr th:only-of-type {\n",
              "        vertical-align: middle;\n",
              "    }\n",
              "\n",
              "    .dataframe tbody tr th {\n",
              "        vertical-align: top;\n",
              "    }\n",
              "\n",
              "    .dataframe thead th {\n",
              "        text-align: right;\n",
              "    }\n",
              "</style>\n",
              "<table border=\"1\" class=\"dataframe\">\n",
              "  <thead>\n",
              "    <tr style=\"text-align: right;\">\n",
              "      <th></th>\n",
              "      <th>Category</th>\n",
              "      <th>Question ID</th>\n",
              "      <th>Question</th>\n",
              "      <th>Source</th>\n",
              "      <th>Answers</th>\n",
              "    </tr>\n",
              "  </thead>\n",
              "  <tbody>\n",
              "    <tr>\n",
              "      <th>0</th>\n",
              "      <td>Speculation - Pandemic Duration</td>\n",
              "      <td>42</td>\n",
              "      <td>will covid end soon</td>\n",
              "      <td>Google Search</td>\n",
              "      <td>may 1st, i think, is completely unrealistic, s...</td>\n",
              "    </tr>\n",
              "    <tr>\n",
              "      <th>1</th>\n",
              "      <td>Speculation - Pandemic Duration</td>\n",
              "      <td>42</td>\n",
              "      <td>will covid end</td>\n",
              "      <td>Yahoo Search</td>\n",
              "      <td>may 1st, i think, is completely unrealistic, s...</td>\n",
              "    </tr>\n",
              "    <tr>\n",
              "      <th>2</th>\n",
              "      <td>Speculation - Pandemic Duration</td>\n",
              "      <td>42</td>\n",
              "      <td>when covid will be over</td>\n",
              "      <td>Google Search</td>\n",
              "      <td>may 1st, i think, is completely unrealistic, s...</td>\n",
              "    </tr>\n",
              "    <tr>\n",
              "      <th>3</th>\n",
              "      <td>Speculation - Pandemic Duration</td>\n",
              "      <td>42</td>\n",
              "      <td>when covid lockdown ends</td>\n",
              "      <td>Google Search</td>\n",
              "      <td>may 1st, i think, is completely unrealistic, s...</td>\n",
              "    </tr>\n",
              "    <tr>\n",
              "      <th>4</th>\n",
              "      <td>Speculation - Pandemic Duration</td>\n",
              "      <td>42</td>\n",
              "      <td>will covid go away</td>\n",
              "      <td>Google Search</td>\n",
              "      <td>may 1st, i think, is completely unrealistic, s...</td>\n",
              "    </tr>\n",
              "  </tbody>\n",
              "</table>\n",
              "</div>"
            ],
            "text/plain": [
              "                          Category  ...                                            Answers\n",
              "0  Speculation - Pandemic Duration  ...  may 1st, i think, is completely unrealistic, s...\n",
              "1  Speculation - Pandemic Duration  ...  may 1st, i think, is completely unrealistic, s...\n",
              "2  Speculation - Pandemic Duration  ...  may 1st, i think, is completely unrealistic, s...\n",
              "3  Speculation - Pandemic Duration  ...  may 1st, i think, is completely unrealistic, s...\n",
              "4  Speculation - Pandemic Duration  ...  may 1st, i think, is completely unrealistic, s...\n",
              "\n",
              "[5 rows x 5 columns]"
            ]
          },
          "metadata": {
            "tags": []
          },
          "execution_count": 4
        }
      ]
    },
    {
      "cell_type": "code",
      "metadata": {
        "id": "CU5yJoekex4x",
        "colab_type": "code",
        "colab": {
          "base_uri": "https://localhost:8080/",
          "height": 419
        },
        "outputId": "7b346a8a-cba9-41bc-9518-6ce2a2e94759"
      },
      "source": [
        "df.drop(['Source'],axis=1)"
      ],
      "execution_count": 7,
      "outputs": [
        {
          "output_type": "execute_result",
          "data": {
            "text/html": [
              "<div>\n",
              "<style scoped>\n",
              "    .dataframe tbody tr th:only-of-type {\n",
              "        vertical-align: middle;\n",
              "    }\n",
              "\n",
              "    .dataframe tbody tr th {\n",
              "        vertical-align: top;\n",
              "    }\n",
              "\n",
              "    .dataframe thead th {\n",
              "        text-align: right;\n",
              "    }\n",
              "</style>\n",
              "<table border=\"1\" class=\"dataframe\">\n",
              "  <thead>\n",
              "    <tr style=\"text-align: right;\">\n",
              "      <th></th>\n",
              "      <th>Category</th>\n",
              "      <th>Question ID</th>\n",
              "      <th>Question</th>\n",
              "      <th>Answers</th>\n",
              "    </tr>\n",
              "  </thead>\n",
              "  <tbody>\n",
              "    <tr>\n",
              "      <th>0</th>\n",
              "      <td>Speculation - Pandemic Duration</td>\n",
              "      <td>42</td>\n",
              "      <td>will covid end soon</td>\n",
              "      <td>may 1st, i think, is completely unrealistic, s...</td>\n",
              "    </tr>\n",
              "    <tr>\n",
              "      <th>1</th>\n",
              "      <td>Speculation - Pandemic Duration</td>\n",
              "      <td>42</td>\n",
              "      <td>will covid end</td>\n",
              "      <td>may 1st, i think, is completely unrealistic, s...</td>\n",
              "    </tr>\n",
              "    <tr>\n",
              "      <th>2</th>\n",
              "      <td>Speculation - Pandemic Duration</td>\n",
              "      <td>42</td>\n",
              "      <td>when covid will be over</td>\n",
              "      <td>may 1st, i think, is completely unrealistic, s...</td>\n",
              "    </tr>\n",
              "    <tr>\n",
              "      <th>3</th>\n",
              "      <td>Speculation - Pandemic Duration</td>\n",
              "      <td>42</td>\n",
              "      <td>when covid lockdown ends</td>\n",
              "      <td>may 1st, i think, is completely unrealistic, s...</td>\n",
              "    </tr>\n",
              "    <tr>\n",
              "      <th>4</th>\n",
              "      <td>Speculation - Pandemic Duration</td>\n",
              "      <td>42</td>\n",
              "      <td>will covid go away</td>\n",
              "      <td>may 1st, i think, is completely unrealistic, s...</td>\n",
              "    </tr>\n",
              "    <tr>\n",
              "      <th>...</th>\n",
              "      <td>...</td>\n",
              "      <td>...</td>\n",
              "      <td>...</td>\n",
              "      <td>...</td>\n",
              "    </tr>\n",
              "    <tr>\n",
              "      <th>1606</th>\n",
              "      <td>NaN</td>\n",
              "      <td>682</td>\n",
              "      <td>why are churches closed due to covid</td>\n",
              "      <td>NaN</td>\n",
              "    </tr>\n",
              "    <tr>\n",
              "      <th>1607</th>\n",
              "      <td>NaN</td>\n",
              "      <td>683</td>\n",
              "      <td>is it safe to have play rehearsals during covid</td>\n",
              "      <td>NaN</td>\n",
              "    </tr>\n",
              "    <tr>\n",
              "      <th>1608</th>\n",
              "      <td>NaN</td>\n",
              "      <td>684</td>\n",
              "      <td>where can i buy toilet paper considering most ...</td>\n",
              "      <td>NaN</td>\n",
              "    </tr>\n",
              "    <tr>\n",
              "      <th>1609</th>\n",
              "      <td>NaN</td>\n",
              "      <td>692</td>\n",
              "      <td>will i likely catch the covid virus in america...</td>\n",
              "      <td>NaN</td>\n",
              "    </tr>\n",
              "    <tr>\n",
              "      <th>1610</th>\n",
              "      <td>NaN</td>\n",
              "      <td>697</td>\n",
              "      <td>what are your best tips for entertaining young...</td>\n",
              "      <td>NaN</td>\n",
              "    </tr>\n",
              "  </tbody>\n",
              "</table>\n",
              "<p>1611 rows × 4 columns</p>\n",
              "</div>"
            ],
            "text/plain": [
              "                             Category  ...                                            Answers\n",
              "0     Speculation - Pandemic Duration  ...  may 1st, i think, is completely unrealistic, s...\n",
              "1     Speculation - Pandemic Duration  ...  may 1st, i think, is completely unrealistic, s...\n",
              "2     Speculation - Pandemic Duration  ...  may 1st, i think, is completely unrealistic, s...\n",
              "3     Speculation - Pandemic Duration  ...  may 1st, i think, is completely unrealistic, s...\n",
              "4     Speculation - Pandemic Duration  ...  may 1st, i think, is completely unrealistic, s...\n",
              "...                               ...  ...                                                ...\n",
              "1606                              NaN  ...                                                NaN\n",
              "1607                              NaN  ...                                                NaN\n",
              "1608                              NaN  ...                                                NaN\n",
              "1609                              NaN  ...                                                NaN\n",
              "1610                              NaN  ...                                                NaN\n",
              "\n",
              "[1611 rows x 4 columns]"
            ]
          },
          "metadata": {
            "tags": []
          },
          "execution_count": 7
        }
      ]
    },
    {
      "cell_type": "code",
      "metadata": {
        "id": "k5mhHRkJgraV",
        "colab_type": "code",
        "colab": {
          "base_uri": "https://localhost:8080/",
          "height": 204
        },
        "outputId": "b2147871-33d6-41e7-fa26-65c6c21b698c"
      },
      "source": [
        "df.tail()"
      ],
      "execution_count": 8,
      "outputs": [
        {
          "output_type": "execute_result",
          "data": {
            "text/html": [
              "<div>\n",
              "<style scoped>\n",
              "    .dataframe tbody tr th:only-of-type {\n",
              "        vertical-align: middle;\n",
              "    }\n",
              "\n",
              "    .dataframe tbody tr th {\n",
              "        vertical-align: top;\n",
              "    }\n",
              "\n",
              "    .dataframe thead th {\n",
              "        text-align: right;\n",
              "    }\n",
              "</style>\n",
              "<table border=\"1\" class=\"dataframe\">\n",
              "  <thead>\n",
              "    <tr style=\"text-align: right;\">\n",
              "      <th></th>\n",
              "      <th>Category</th>\n",
              "      <th>Question ID</th>\n",
              "      <th>Question</th>\n",
              "      <th>Source</th>\n",
              "      <th>Answers</th>\n",
              "    </tr>\n",
              "  </thead>\n",
              "  <tbody>\n",
              "    <tr>\n",
              "      <th>1606</th>\n",
              "      <td>NaN</td>\n",
              "      <td>682</td>\n",
              "      <td>why are churches closed due to covid</td>\n",
              "      <td>Quora</td>\n",
              "      <td>NaN</td>\n",
              "    </tr>\n",
              "    <tr>\n",
              "      <th>1607</th>\n",
              "      <td>NaN</td>\n",
              "      <td>683</td>\n",
              "      <td>is it safe to have play rehearsals during covid</td>\n",
              "      <td>Quora</td>\n",
              "      <td>NaN</td>\n",
              "    </tr>\n",
              "    <tr>\n",
              "      <th>1608</th>\n",
              "      <td>NaN</td>\n",
              "      <td>684</td>\n",
              "      <td>where can i buy toilet paper considering most ...</td>\n",
              "      <td>Quora</td>\n",
              "      <td>NaN</td>\n",
              "    </tr>\n",
              "    <tr>\n",
              "      <th>1609</th>\n",
              "      <td>NaN</td>\n",
              "      <td>692</td>\n",
              "      <td>will i likely catch the covid virus in america...</td>\n",
              "      <td>Quora</td>\n",
              "      <td>NaN</td>\n",
              "    </tr>\n",
              "    <tr>\n",
              "      <th>1610</th>\n",
              "      <td>NaN</td>\n",
              "      <td>697</td>\n",
              "      <td>what are your best tips for entertaining young...</td>\n",
              "      <td>Quora</td>\n",
              "      <td>NaN</td>\n",
              "    </tr>\n",
              "  </tbody>\n",
              "</table>\n",
              "</div>"
            ],
            "text/plain": [
              "     Category  Question ID  ... Source Answers\n",
              "1606      NaN          682  ...  Quora     NaN\n",
              "1607      NaN          683  ...  Quora     NaN\n",
              "1608      NaN          684  ...  Quora     NaN\n",
              "1609      NaN          692  ...  Quora     NaN\n",
              "1610      NaN          697  ...  Quora     NaN\n",
              "\n",
              "[5 rows x 5 columns]"
            ]
          },
          "metadata": {
            "tags": []
          },
          "execution_count": 8
        }
      ]
    },
    {
      "cell_type": "code",
      "metadata": {
        "id": "kizOii7KjZiF",
        "colab_type": "code",
        "colab": {
          "base_uri": "https://localhost:8080/",
          "height": 119
        },
        "outputId": "6ecb6a1f-4592-43b1-ee6e-65a33c919d9d"
      },
      "source": [
        "df.isna().sum()"
      ],
      "execution_count": 10,
      "outputs": [
        {
          "output_type": "execute_result",
          "data": {
            "text/plain": [
              "Category       366\n",
              "Question ID      0\n",
              "Question         1\n",
              "Source           0\n",
              "Answers        763\n",
              "dtype: int64"
            ]
          },
          "metadata": {
            "tags": []
          },
          "execution_count": 10
        }
      ]
    },
    {
      "cell_type": "code",
      "metadata": {
        "id": "7VpncoW7hC5M",
        "colab_type": "code",
        "colab": {}
      },
      "source": [
        "df = df[df['Question ID'].notna()]"
      ],
      "execution_count": 11,
      "outputs": []
    },
    {
      "cell_type": "code",
      "metadata": {
        "id": "0LkIalonjr55",
        "colab_type": "code",
        "colab": {
          "base_uri": "https://localhost:8080/",
          "height": 34
        },
        "outputId": "fd6c4310-5d88-4c81-b1b1-7ae2f74d2ecb"
      },
      "source": [
        "df.shape"
      ],
      "execution_count": 13,
      "outputs": [
        {
          "output_type": "execute_result",
          "data": {
            "text/plain": [
              "(1611, 5)"
            ]
          },
          "metadata": {
            "tags": []
          },
          "execution_count": 13
        }
      ]
    },
    {
      "cell_type": "code",
      "metadata": {
        "id": "2gc-FLo_jtA3",
        "colab_type": "code",
        "colab": {}
      },
      "source": [
        "df = df[df['Answers'].notna()]"
      ],
      "execution_count": 14,
      "outputs": []
    },
    {
      "cell_type": "code",
      "metadata": {
        "id": "Idk_nwWTk-C7",
        "colab_type": "code",
        "colab": {
          "base_uri": "https://localhost:8080/",
          "height": 34
        },
        "outputId": "cca9dc66-622a-4fb6-b950-367666e4e51d"
      },
      "source": [
        "df.shape"
      ],
      "execution_count": 15,
      "outputs": [
        {
          "output_type": "execute_result",
          "data": {
            "text/plain": [
              "(848, 5)"
            ]
          },
          "metadata": {
            "tags": []
          },
          "execution_count": 15
        }
      ]
    },
    {
      "cell_type": "code",
      "metadata": {
        "id": "rfaBW2Z8k-sW",
        "colab_type": "code",
        "colab": {
          "base_uri": "https://localhost:8080/",
          "height": 204
        },
        "outputId": "51a1a55d-42d1-43f9-dac3-f1d2c7319542"
      },
      "source": [
        "df.head()"
      ],
      "execution_count": 16,
      "outputs": [
        {
          "output_type": "execute_result",
          "data": {
            "text/html": [
              "<div>\n",
              "<style scoped>\n",
              "    .dataframe tbody tr th:only-of-type {\n",
              "        vertical-align: middle;\n",
              "    }\n",
              "\n",
              "    .dataframe tbody tr th {\n",
              "        vertical-align: top;\n",
              "    }\n",
              "\n",
              "    .dataframe thead th {\n",
              "        text-align: right;\n",
              "    }\n",
              "</style>\n",
              "<table border=\"1\" class=\"dataframe\">\n",
              "  <thead>\n",
              "    <tr style=\"text-align: right;\">\n",
              "      <th></th>\n",
              "      <th>Category</th>\n",
              "      <th>Question ID</th>\n",
              "      <th>Question</th>\n",
              "      <th>Source</th>\n",
              "      <th>Answers</th>\n",
              "    </tr>\n",
              "  </thead>\n",
              "  <tbody>\n",
              "    <tr>\n",
              "      <th>0</th>\n",
              "      <td>Speculation - Pandemic Duration</td>\n",
              "      <td>42</td>\n",
              "      <td>will covid end soon</td>\n",
              "      <td>Google Search</td>\n",
              "      <td>may 1st, i think, is completely unrealistic, s...</td>\n",
              "    </tr>\n",
              "    <tr>\n",
              "      <th>1</th>\n",
              "      <td>Speculation - Pandemic Duration</td>\n",
              "      <td>42</td>\n",
              "      <td>will covid end</td>\n",
              "      <td>Yahoo Search</td>\n",
              "      <td>may 1st, i think, is completely unrealistic, s...</td>\n",
              "    </tr>\n",
              "    <tr>\n",
              "      <th>2</th>\n",
              "      <td>Speculation - Pandemic Duration</td>\n",
              "      <td>42</td>\n",
              "      <td>when covid will be over</td>\n",
              "      <td>Google Search</td>\n",
              "      <td>may 1st, i think, is completely unrealistic, s...</td>\n",
              "    </tr>\n",
              "    <tr>\n",
              "      <th>3</th>\n",
              "      <td>Speculation - Pandemic Duration</td>\n",
              "      <td>42</td>\n",
              "      <td>when covid lockdown ends</td>\n",
              "      <td>Google Search</td>\n",
              "      <td>may 1st, i think, is completely unrealistic, s...</td>\n",
              "    </tr>\n",
              "    <tr>\n",
              "      <th>4</th>\n",
              "      <td>Speculation - Pandemic Duration</td>\n",
              "      <td>42</td>\n",
              "      <td>will covid go away</td>\n",
              "      <td>Google Search</td>\n",
              "      <td>may 1st, i think, is completely unrealistic, s...</td>\n",
              "    </tr>\n",
              "  </tbody>\n",
              "</table>\n",
              "</div>"
            ],
            "text/plain": [
              "                          Category  ...                                            Answers\n",
              "0  Speculation - Pandemic Duration  ...  may 1st, i think, is completely unrealistic, s...\n",
              "1  Speculation - Pandemic Duration  ...  may 1st, i think, is completely unrealistic, s...\n",
              "2  Speculation - Pandemic Duration  ...  may 1st, i think, is completely unrealistic, s...\n",
              "3  Speculation - Pandemic Duration  ...  may 1st, i think, is completely unrealistic, s...\n",
              "4  Speculation - Pandemic Duration  ...  may 1st, i think, is completely unrealistic, s...\n",
              "\n",
              "[5 rows x 5 columns]"
            ]
          },
          "metadata": {
            "tags": []
          },
          "execution_count": 16
        }
      ]
    },
    {
      "cell_type": "code",
      "metadata": {
        "id": "5Ww7b3lplLFf",
        "colab_type": "code",
        "colab": {}
      },
      "source": [
        "new_df = df.drop_duplicates(keep=\"first\", inplace=False, subset=['Answers'])"
      ],
      "execution_count": 22,
      "outputs": []
    },
    {
      "cell_type": "code",
      "metadata": {
        "id": "-Q4vZ9qYqUgr",
        "colab_type": "code",
        "colab": {
          "base_uri": "https://localhost:8080/",
          "height": 34
        },
        "outputId": "de5f89ef-c961-4b4e-d79a-28843622239d"
      },
      "source": [
        "new_df.shape"
      ],
      "execution_count": 23,
      "outputs": [
        {
          "output_type": "execute_result",
          "data": {
            "text/plain": [
              "(243, 5)"
            ]
          },
          "metadata": {
            "tags": []
          },
          "execution_count": 23
        }
      ]
    },
    {
      "cell_type": "code",
      "metadata": {
        "id": "GfYQh8uKqgG8",
        "colab_type": "code",
        "colab": {
          "base_uri": "https://localhost:8080/",
          "height": 289
        },
        "outputId": "cc050308-7205-4c1c-a2ed-83d730540482"
      },
      "source": [
        "new_df.head()"
      ],
      "execution_count": 24,
      "outputs": [
        {
          "output_type": "execute_result",
          "data": {
            "text/html": [
              "<div>\n",
              "<style scoped>\n",
              "    .dataframe tbody tr th:only-of-type {\n",
              "        vertical-align: middle;\n",
              "    }\n",
              "\n",
              "    .dataframe tbody tr th {\n",
              "        vertical-align: top;\n",
              "    }\n",
              "\n",
              "    .dataframe thead th {\n",
              "        text-align: right;\n",
              "    }\n",
              "</style>\n",
              "<table border=\"1\" class=\"dataframe\">\n",
              "  <thead>\n",
              "    <tr style=\"text-align: right;\">\n",
              "      <th></th>\n",
              "      <th>Category</th>\n",
              "      <th>Question ID</th>\n",
              "      <th>Question</th>\n",
              "      <th>Source</th>\n",
              "      <th>Answers</th>\n",
              "    </tr>\n",
              "  </thead>\n",
              "  <tbody>\n",
              "    <tr>\n",
              "      <th>0</th>\n",
              "      <td>Speculation - Pandemic Duration</td>\n",
              "      <td>42</td>\n",
              "      <td>will covid end soon</td>\n",
              "      <td>Google Search</td>\n",
              "      <td>may 1st, i think, is completely unrealistic, s...</td>\n",
              "    </tr>\n",
              "    <tr>\n",
              "      <th>28</th>\n",
              "      <td>Transmission - Demographics: General</td>\n",
              "      <td>92</td>\n",
              "      <td>who is at higher risk</td>\n",
              "      <td>Illinois Department of Public Health</td>\n",
              "      <td>older adults and people of any age who have se...</td>\n",
              "    </tr>\n",
              "    <tr>\n",
              "      <th>54</th>\n",
              "      <td>Transmission - Survivability: Surfaces</td>\n",
              "      <td>75</td>\n",
              "      <td>does covid live on clothes</td>\n",
              "      <td>Google Search</td>\n",
              "      <td>although the new covid weakens and dies over t...</td>\n",
              "    </tr>\n",
              "    <tr>\n",
              "      <th>78</th>\n",
              "      <td>Nomenclature - Reason for Name</td>\n",
              "      <td>39</td>\n",
              "      <td>what covid means</td>\n",
              "      <td>Bing Search</td>\n",
              "      <td>corona means crown, and covides have a crown o...</td>\n",
              "    </tr>\n",
              "    <tr>\n",
              "      <th>119</th>\n",
              "      <td>Societal Response - United States</td>\n",
              "      <td>51</td>\n",
              "      <td>why covid is worse in us</td>\n",
              "      <td>Google Search</td>\n",
              "      <td>experts say its due to cuts in federal funding...</td>\n",
              "    </tr>\n",
              "  </tbody>\n",
              "</table>\n",
              "</div>"
            ],
            "text/plain": [
              "                                   Category  ...                                            Answers\n",
              "0           Speculation - Pandemic Duration  ...  may 1st, i think, is completely unrealistic, s...\n",
              "28     Transmission - Demographics: General  ...  older adults and people of any age who have se...\n",
              "54   Transmission - Survivability: Surfaces  ...  although the new covid weakens and dies over t...\n",
              "78           Nomenclature - Reason for Name  ...  corona means crown, and covides have a crown o...\n",
              "119       Societal Response - United States  ...  experts say its due to cuts in federal funding...\n",
              "\n",
              "[5 rows x 5 columns]"
            ]
          },
          "metadata": {
            "tags": []
          },
          "execution_count": 24
        }
      ]
    },
    {
      "cell_type": "code",
      "metadata": {
        "id": "ziNmEhY_qii9",
        "colab_type": "code",
        "colab": {
          "base_uri": "https://localhost:8080/",
          "height": 119
        },
        "outputId": "37b8c08d-3519-4bfd-93d1-684c8e210457"
      },
      "source": [
        "new_df.isna().sum()"
      ],
      "execution_count": 25,
      "outputs": [
        {
          "output_type": "execute_result",
          "data": {
            "text/plain": [
              "Category       152\n",
              "Question ID      0\n",
              "Question         0\n",
              "Source           0\n",
              "Answers          0\n",
              "dtype: int64"
            ]
          },
          "metadata": {
            "tags": []
          },
          "execution_count": 25
        }
      ]
    },
    {
      "cell_type": "code",
      "metadata": {
        "id": "vcpeGHxlrCsC",
        "colab_type": "code",
        "colab": {}
      },
      "source": [
        "df_new=new_df.drop(['Category','Source','Question ID'], axis=1)"
      ],
      "execution_count": 37,
      "outputs": []
    },
    {
      "cell_type": "code",
      "metadata": {
        "id": "JJ4pJM2brNVl",
        "colab_type": "code",
        "colab": {
          "base_uri": "https://localhost:8080/",
          "height": 68
        },
        "outputId": "0f19bb56-9fcf-43b7-ed7e-2a728c74f382"
      },
      "source": [
        "df_new.isna().sum()"
      ],
      "execution_count": 38,
      "outputs": [
        {
          "output_type": "execute_result",
          "data": {
            "text/plain": [
              "Question    0\n",
              "Answers     0\n",
              "dtype: int64"
            ]
          },
          "metadata": {
            "tags": []
          },
          "execution_count": 38
        }
      ]
    },
    {
      "cell_type": "code",
      "metadata": {
        "id": "xuCHalfXruPR",
        "colab_type": "code",
        "colab": {
          "base_uri": "https://localhost:8080/",
          "height": 204
        },
        "outputId": "5a7eeba5-d6ba-47b5-e718-ec4d82d552b0"
      },
      "source": [
        "df_new.head()"
      ],
      "execution_count": 39,
      "outputs": [
        {
          "output_type": "execute_result",
          "data": {
            "text/html": [
              "<div>\n",
              "<style scoped>\n",
              "    .dataframe tbody tr th:only-of-type {\n",
              "        vertical-align: middle;\n",
              "    }\n",
              "\n",
              "    .dataframe tbody tr th {\n",
              "        vertical-align: top;\n",
              "    }\n",
              "\n",
              "    .dataframe thead th {\n",
              "        text-align: right;\n",
              "    }\n",
              "</style>\n",
              "<table border=\"1\" class=\"dataframe\">\n",
              "  <thead>\n",
              "    <tr style=\"text-align: right;\">\n",
              "      <th></th>\n",
              "      <th>Question</th>\n",
              "      <th>Answers</th>\n",
              "    </tr>\n",
              "  </thead>\n",
              "  <tbody>\n",
              "    <tr>\n",
              "      <th>0</th>\n",
              "      <td>will covid end soon</td>\n",
              "      <td>may 1st, i think, is completely unrealistic, s...</td>\n",
              "    </tr>\n",
              "    <tr>\n",
              "      <th>28</th>\n",
              "      <td>who is at higher risk</td>\n",
              "      <td>older adults and people of any age who have se...</td>\n",
              "    </tr>\n",
              "    <tr>\n",
              "      <th>54</th>\n",
              "      <td>does covid live on clothes</td>\n",
              "      <td>although the new covid weakens and dies over t...</td>\n",
              "    </tr>\n",
              "    <tr>\n",
              "      <th>78</th>\n",
              "      <td>what covid means</td>\n",
              "      <td>corona means crown, and covides have a crown o...</td>\n",
              "    </tr>\n",
              "    <tr>\n",
              "      <th>119</th>\n",
              "      <td>why covid is worse in us</td>\n",
              "      <td>experts say its due to cuts in federal funding...</td>\n",
              "    </tr>\n",
              "  </tbody>\n",
              "</table>\n",
              "</div>"
            ],
            "text/plain": [
              "                       Question                                            Answers\n",
              "0           will covid end soon  may 1st, i think, is completely unrealistic, s...\n",
              "28        who is at higher risk  older adults and people of any age who have se...\n",
              "54   does covid live on clothes  although the new covid weakens and dies over t...\n",
              "78             what covid means  corona means crown, and covides have a crown o...\n",
              "119    why covid is worse in us  experts say its due to cuts in federal funding..."
            ]
          },
          "metadata": {
            "tags": []
          },
          "execution_count": 39
        }
      ]
    },
    {
      "cell_type": "code",
      "metadata": {
        "id": "MXqR2SsXrmU4",
        "colab_type": "code",
        "colab": {
          "base_uri": "https://localhost:8080/",
          "height": 34
        },
        "outputId": "e3b7078e-722e-4c8e-dcb4-75a4ad51a221"
      },
      "source": [
        "cols = df_new.columns.tolist()\n",
        "cols"
      ],
      "execution_count": 42,
      "outputs": [
        {
          "output_type": "execute_result",
          "data": {
            "text/plain": [
              "['Question', 'Answers']"
            ]
          },
          "metadata": {
            "tags": []
          },
          "execution_count": 42
        }
      ]
    },
    {
      "cell_type": "code",
      "metadata": {
        "id": "HMEoAVXas0bA",
        "colab_type": "code",
        "colab": {
          "base_uri": "https://localhost:8080/",
          "height": 34
        },
        "outputId": "d584f2ef-32cb-4cb3-d93f-303a0735548b"
      },
      "source": [
        "cols = cols[-1:] + cols[:-1]\n",
        "cols"
      ],
      "execution_count": 43,
      "outputs": [
        {
          "output_type": "execute_result",
          "data": {
            "text/plain": [
              "['Answers', 'Question']"
            ]
          },
          "metadata": {
            "tags": []
          },
          "execution_count": 43
        }
      ]
    },
    {
      "cell_type": "code",
      "metadata": {
        "id": "SHv5bYEvs5ul",
        "colab_type": "code",
        "colab": {}
      },
      "source": [
        "df_new = df_new[cols]"
      ],
      "execution_count": 44,
      "outputs": []
    },
    {
      "cell_type": "code",
      "metadata": {
        "id": "elsVIF_Ys9lL",
        "colab_type": "code",
        "colab": {
          "base_uri": "https://localhost:8080/",
          "height": 204
        },
        "outputId": "54774ae7-113f-459a-84c2-716e2fdce94a"
      },
      "source": [
        "df_new.head()"
      ],
      "execution_count": 45,
      "outputs": [
        {
          "output_type": "execute_result",
          "data": {
            "text/html": [
              "<div>\n",
              "<style scoped>\n",
              "    .dataframe tbody tr th:only-of-type {\n",
              "        vertical-align: middle;\n",
              "    }\n",
              "\n",
              "    .dataframe tbody tr th {\n",
              "        vertical-align: top;\n",
              "    }\n",
              "\n",
              "    .dataframe thead th {\n",
              "        text-align: right;\n",
              "    }\n",
              "</style>\n",
              "<table border=\"1\" class=\"dataframe\">\n",
              "  <thead>\n",
              "    <tr style=\"text-align: right;\">\n",
              "      <th></th>\n",
              "      <th>Answers</th>\n",
              "      <th>Question</th>\n",
              "    </tr>\n",
              "  </thead>\n",
              "  <tbody>\n",
              "    <tr>\n",
              "      <th>0</th>\n",
              "      <td>may 1st, i think, is completely unrealistic, s...</td>\n",
              "      <td>will covid end soon</td>\n",
              "    </tr>\n",
              "    <tr>\n",
              "      <th>28</th>\n",
              "      <td>older adults and people of any age who have se...</td>\n",
              "      <td>who is at higher risk</td>\n",
              "    </tr>\n",
              "    <tr>\n",
              "      <th>54</th>\n",
              "      <td>although the new covid weakens and dies over t...</td>\n",
              "      <td>does covid live on clothes</td>\n",
              "    </tr>\n",
              "    <tr>\n",
              "      <th>78</th>\n",
              "      <td>corona means crown, and covides have a crown o...</td>\n",
              "      <td>what covid means</td>\n",
              "    </tr>\n",
              "    <tr>\n",
              "      <th>119</th>\n",
              "      <td>experts say its due to cuts in federal funding...</td>\n",
              "      <td>why covid is worse in us</td>\n",
              "    </tr>\n",
              "  </tbody>\n",
              "</table>\n",
              "</div>"
            ],
            "text/plain": [
              "                                               Answers                    Question\n",
              "0    may 1st, i think, is completely unrealistic, s...         will covid end soon\n",
              "28   older adults and people of any age who have se...       who is at higher risk\n",
              "54   although the new covid weakens and dies over t...  does covid live on clothes\n",
              "78   corona means crown, and covides have a crown o...            what covid means\n",
              "119  experts say its due to cuts in federal funding...    why covid is worse in us"
            ]
          },
          "metadata": {
            "tags": []
          },
          "execution_count": 45
        }
      ]
    },
    {
      "cell_type": "code",
      "metadata": {
        "id": "iXLHMsPjrPfC",
        "colab_type": "code",
        "colab": {}
      },
      "source": [
        "df_new.to_csv('covid_jin.csv', sep='|', encoding='utf-8',index=False)"
      ],
      "execution_count": 69,
      "outputs": []
    },
    {
      "cell_type": "code",
      "metadata": {
        "id": "_sLRZbn9wygJ",
        "colab_type": "code",
        "colab": {
          "base_uri": "https://localhost:8080/",
          "height": 34
        },
        "outputId": "b16c3c3d-36a0-459b-c777-3671ae614da5"
      },
      "source": [
        "!pwd"
      ],
      "execution_count": 70,
      "outputs": [
        {
          "output_type": "stream",
          "text": [
            "/content\n"
          ],
          "name": "stdout"
        }
      ]
    },
    {
      "cell_type": "code",
      "metadata": {
        "id": "FuHp76Uqw1mJ",
        "colab_type": "code",
        "colab": {
          "base_uri": "https://localhost:8080/",
          "height": 51
        },
        "outputId": "fe328301-a7b2-4ad3-91a1-4da9a77efbfc"
      },
      "source": [
        "!ls /content"
      ],
      "execution_count": 71,
      "outputs": [
        {
          "output_type": "stream",
          "text": [
            "covid.csv\tcovid_jin.csv\t     final_master_dataset.csv\n",
            "covid_jina.csv\tcovid_jin_final.csv  sample_data\n"
          ],
          "name": "stdout"
        }
      ]
    },
    {
      "cell_type": "code",
      "metadata": {
        "id": "vND3df_Uwizu",
        "colab_type": "code",
        "colab": {}
      },
      "source": [
        "data_dir = \"/content\""
      ],
      "execution_count": 72,
      "outputs": []
    },
    {
      "cell_type": "code",
      "metadata": {
        "id": "ihi-NoJ2w8Kd",
        "colab_type": "code",
        "colab": {}
      },
      "source": [
        "import os"
      ],
      "execution_count": 73,
      "outputs": []
    },
    {
      "cell_type": "code",
      "metadata": {
        "id": "prSiKBp2tC3R",
        "colab_type": "code",
        "colab": {
          "base_uri": "https://localhost:8080/",
          "height": 35
        },
        "outputId": "33c858aa-04ed-4575-8b55-f6df076d3b05"
      },
      "source": [
        "data_fn = os.path.join(data_dir, 'covid_jin.csv')\n",
        "data_fn"
      ],
      "execution_count": 74,
      "outputs": [
        {
          "output_type": "execute_result",
          "data": {
            "application/vnd.google.colaboratory.intrinsic+json": {
              "type": "string"
            },
            "text/plain": [
              "'/content/covid_jin.csv'"
            ]
          },
          "metadata": {
            "tags": []
          },
          "execution_count": 74
        }
      ]
    },
    {
      "cell_type": "code",
      "metadata": {
        "id": "VDV7jziLxQye",
        "colab_type": "code",
        "colab": {}
      },
      "source": [
        "import csv\n",
        "import csv\n",
        "import os\n",
        "import re\n",
        "import sys"
      ],
      "execution_count": 79,
      "outputs": []
    },
    {
      "cell_type": "code",
      "metadata": {
        "id": "ZjZ9j3eG5ihP",
        "colab_type": "code",
        "colab": {}
      },
      "source": [
        "_min_sent_len = 3\n",
        "_max_sent_len = 64\n",
        "#punct_chars = ['!', '.', '?', '։', '؟', '۔', '܀', '܁', '܂', '‼', '‽', '⁇', '⁈', '⁉', '⸮', '﹖', '﹗',\n",
        "#                   '！', '．', '？', '｡', '。']\n",
        "punct_chars = [',']\n",
        "_slit_pat = re.compile('([{0}])+([^{0}])'.format(''.join(punct_chars)))\n",
        "_replace_pat = re.compile('{}'.format(punct_chars))"
      ],
      "execution_count": 95,
      "outputs": []
    },
    {
      "cell_type": "code",
      "metadata": {
        "id": "EONrG2RX32OI",
        "colab_type": "code",
        "colab": {}
      },
      "source": [
        "doc_list = []\n",
        "file_object = open('sample.csv', 'a+')\n",
        "with open(data_fn, 'r') as f:\n",
        "        f_h = csv.reader(f,delimiter='|')\n",
        "        #print(f_h)\n",
        "        for _idx, l in enumerate(f_h):\n",
        "            if _idx == 0:\n",
        "                continue\n",
        "            name, line = l\n",
        "            name = _replace_pat.sub(r'', name)\n",
        "            #print(\"Name=\",name)\n",
        "            #print(\"Line=\",line)\n",
        "            file_object.write('{}[SEP]{}'.format(name, l))\n",
        "            file_object.write(\"\\n\")\n",
        "            #doc_list.append('{}[SEP]{}'.format(name, l))\n",
        "                   "
      ],
      "execution_count": 98,
      "outputs": []
    },
    {
      "cell_type": "code",
      "metadata": {
        "id": "EGCxhKE46EQ3",
        "colab_type": "code",
        "colab": {
          "base_uri": "https://localhost:8080/",
          "height": 103
        },
        "outputId": "2ca18b84-4e4d-487c-ed94-9b0da41c5d09"
      },
      "source": [
        "doc_list[0]"
      ],
      "execution_count": 91,
      "outputs": [
        {
          "output_type": "execute_result",
          "data": {
            "application/vnd.google.colaboratory.intrinsic+json": {
              "type": "string"
            },
            "text/plain": [
              "\"may 1st, i think, is completely unrealistic, said dr. ashish jha, director of the harvard global health institute. , probably for several months. but you might have to do it over and over again, since the outbreak could come in waves. [SEP]['may 1st, i think, is completely unrealistic, said dr. ashish jha, director of the harvard global health institute. , probably for several months. but you might have to do it over and over again, since the outbreak could come in waves. ', 'will covid end soon']\""
            ]
          },
          "metadata": {
            "tags": []
          },
          "execution_count": 91
        }
      ]
    },
    {
      "cell_type": "code",
      "metadata": {
        "id": "Z8a6Z5CY5_N3",
        "colab_type": "code",
        "colab": {
          "base_uri": "https://localhost:8080/",
          "height": 86
        },
        "outputId": "6dc093eb-2908-49fe-fd87-afda2d6106cd"
      },
      "source": [
        "doc_list = list(frozenset(doc_list))\n",
        "doc_list[0]"
      ],
      "execution_count": 92,
      "outputs": [
        {
          "output_type": "execute_result",
          "data": {
            "application/vnd.google.colaboratory.intrinsic+json": {
              "type": "string"
            },
            "text/plain": [
              "\"may 1st, i think, is completely unrealistic, said dr. ashish jha, director of the harvard global health institute. , probably for several months. but you might have to do it over and over again, since the outbreak could come in waves. [SEP]['some people with covid have mild or no symptoms. and in some cases, symptoms dont appear until up to 14 days after infection. ', 'why waste a test kit on a person without symptoms']\""
            ]
          },
          "metadata": {
            "tags": []
          },
          "execution_count": 92
        }
      ]
    },
    {
      "cell_type": "code",
      "metadata": {
        "id": "dasR7x48tnaz",
        "colab_type": "code",
        "colab": {}
      },
      "source": [
        "with open(data_fn, 'r') as f:\n",
        "        f_h = csv.reader(f,delimiter='\\t')\n",
        "        print(f_h)\n",
        "        for _idx, l in enumerate(f_h):\n",
        "            if _idx == 0:\n",
        "                continue\n",
        "            print(l)\n",
        "            name, line = l\n",
        "            line = line.strip('\"')\n",
        "            sents_str = _slit_pat.sub(r'\\1\\n\\2', '{}\\n'.format(line))\n",
        "            sents_str = sents_str.rstrip('\\n')\n",
        "            sents = [s.strip() for s in sents_str.split('\\n') if _min_sent_len <= len(s.strip()) <= _max_sent_len]\n",
        "            character_set.add(name)\n",
        "            name = _replace_pat.sub(r'', name)\n",
        "            for s in sents:\n",
        "                doc_list.append('{}[SEP]{}'.format(name, s))"
      ],
      "execution_count": null,
      "outputs": []
    },
    {
      "cell_type": "code",
      "metadata": {
        "id": "fzeAtL1sw7Yp",
        "colab_type": "code",
        "colab": {}
      },
      "source": [
        ""
      ],
      "execution_count": null,
      "outputs": []
    }
  ]
}